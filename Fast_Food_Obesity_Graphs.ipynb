{
 "cells": [
  {
   "cell_type": "code",
   "execution_count": null,
   "id": "516116c5",
   "metadata": {},
   "outputs": [],
   "source": [
    "import matplotlib.pyplot as plt\n",
    "import pandas as pd\n",
    "import scipy.stats as st\n",
    "import numpy as np\n",
    "import requests\n",
    "import json\n",
    "from census import Census\n",
    "import gmaps\n",
    "\n",
    "# Import API key\n",
    "from config import g_key\n"
   ]
  },
  {
   "cell_type": "code",
   "execution_count": null,
   "id": "75e40239",
   "metadata": {},
   "outputs": [],
   "source": [
    "# Import the fast food data file \n",
    "fastfood_data = pd.read_csv('resources/clean_fast_food.csv')\n",
    "fastfood_data\n"
   ]
  },
  {
   "cell_type": "code",
   "execution_count": null,
   "id": "8f7c6a1f",
   "metadata": {},
   "outputs": [],
   "source": [
    "# Import the combined fast food - obesity - population data file \n",
    "combined_fastfood= pd.read_csv('resources/clean_all_combined.csv')\n",
    "combined_fastfood\n"
   ]
  },
  {
   "cell_type": "code",
   "execution_count": null,
   "id": "c419a57d",
   "metadata": {},
   "outputs": [],
   "source": [
    "# Configure gmaps\n",
    "gmaps.configure(api_key=g_key)"
   ]
  },
  {
   "cell_type": "code",
   "execution_count": null,
   "id": "3a022476",
   "metadata": {},
   "outputs": [],
   "source": [
    "obesity_data= pd.read_csv('resources/obesity_data_state_2020.csv')\n"
   ]
  },
  {
   "cell_type": "code",
   "execution_count": null,
   "id": "249e26e0",
   "metadata": {},
   "outputs": [],
   "source": [
    "# Build a dataframe that has city, lat and long. Remove the dups. \n",
    "locations = fastfood_data[[\"City\", \"Latitude\", \"Longitude\"]].drop_duplicates()\n"
   ]
  },
  {
   "cell_type": "code",
   "execution_count": null,
   "id": "801f638e",
   "metadata": {},
   "outputs": [],
   "source": [
    "#Group the fast food data by city and count the number of fast food places in each city. \n",
    "fast_food_totals = fastfood_data.groupby(\"City\")[['Index']].count()\n",
    "fast_food_totals"
   ]
  },
  {
   "cell_type": "code",
   "execution_count": null,
   "id": "b5bb35c2",
   "metadata": {},
   "outputs": [],
   "source": [
    "#rename the index column to the fast food count \n",
    "fast_food_totals.rename(columns = {'Index' : 'Fast Food Count'}, inplace = True)\n"
   ]
  },
  {
   "cell_type": "code",
   "execution_count": null,
   "id": "b0f3b9b9",
   "metadata": {},
   "outputs": [],
   "source": [
    "# create a data frame that has city, fast food count, lat and long - merging the grouped df with the locations\n",
    "fast_food_by_city= pd.merge(fast_food_totals, locations, how = 'right', on = 'City')\n",
    "fast_food_by_city.head(30)"
   ]
  },
  {
   "cell_type": "code",
   "execution_count": null,
   "id": "ce68a1e0",
   "metadata": {},
   "outputs": [],
   "source": [
    "#prep the parameters for teh heat map \n",
    "locations = fast_food_by_city[[\"Latitude\", \"Longitude\"]]\n",
    "ff_count = fast_food_by_city[\"Fast Food Count\"].astype(float)"
   ]
  },
  {
   "cell_type": "code",
   "execution_count": null,
   "id": "5ea89067",
   "metadata": {},
   "outputs": [],
   "source": [
    "\n",
    "# Plot Heatmap\n",
    "fig = gmaps.figure()\n",
    "\n",
    "# Create heat layer\n",
    "heat_layer = gmaps.heatmap_layer(locations, weights=ff_count, \n",
    "                                 dissipating=False, max_intensity=200,\n",
    "                                 point_radius=1)\n",
    "\n",
    "# Add layer\n",
    "fig.add_layer(heat_layer)\n",
    "\n",
    "# Display figure\n",
    "fig"
   ]
  },
  {
   "cell_type": "code",
   "execution_count": null,
   "id": "dbee20ad",
   "metadata": {},
   "outputs": [],
   "source": [
    "#Julia work - fast food quantity by obesity by state"
   ]
  },
  {
   "cell_type": "code",
   "execution_count": null,
   "id": "e3ee448b",
   "metadata": {},
   "outputs": [],
   "source": [
    "#Nicole Work - fast food per capita"
   ]
  }
 ],
 "metadata": {
  "kernelspec": {
   "display_name": "Python 3",
   "language": "python",
   "name": "python3"
  },
  "language_info": {
   "codemirror_mode": {
    "name": "ipython",
    "version": 3
   },
   "file_extension": ".py",
   "mimetype": "text/x-python",
   "name": "python",
   "nbconvert_exporter": "python",
   "pygments_lexer": "ipython3",
   "version": "3.8.8"
  }
 },
 "nbformat": 4,
 "nbformat_minor": 5
}
