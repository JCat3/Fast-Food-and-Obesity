{
 "cells": [
  {
   "cell_type": "code",
   "execution_count": null,
   "id": "516116c5",
   "metadata": {},
   "outputs": [],
   "source": [
    "import matplotlib.pyplot as plt\n",
    "import pandas as pd\n",
    "import scipy.stats as st\n",
    "import numpy as np\n",
    "import requests\n",
    "import json\n",
    "from census import Census"
   ]
  },
  {
   "cell_type": "code",
   "execution_count": null,
   "id": "8f7c6a1f",
   "metadata": {},
   "outputs": [],
   "source": [
    "combined_fastfood= pd.read_csv('resources/clean_all_combined.csv')\n"
   ]
  },
  {
   "cell_type": "code",
   "execution_count": null,
   "id": "ae5bcb14",
   "metadata": {},
   "outputs": [],
   "source": [
    "#Anne Work - most popular fast food brands by state"
   ]
  },
  {
   "cell_type": "code",
   "execution_count": null,
   "id": "dbee20ad",
   "metadata": {},
   "outputs": [],
   "source": [
    "#Julia work - fast food quantity by obesity by state"
   ]
  },
  {
   "cell_type": "code",
   "execution_count": null,
   "id": "e3ee448b",
   "metadata": {},
   "outputs": [],
   "source": [
    "#Nicole Work - fast food per capita"
   ]
  }
 ],
 "metadata": {
  "kernelspec": {
   "display_name": "Python 3",
   "language": "python",
   "name": "python3"
  },
  "language_info": {
   "codemirror_mode": {
    "name": "ipython",
    "version": 3
   },
   "file_extension": ".py",
   "mimetype": "text/x-python",
   "name": "python",
   "nbconvert_exporter": "python",
   "pygments_lexer": "ipython3",
   "version": "3.8.8"
  }
 },
 "nbformat": 4,
 "nbformat_minor": 5
}
