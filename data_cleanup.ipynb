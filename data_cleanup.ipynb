{
 "cells": [
  {
   "cell_type": "code",
   "execution_count": null,
   "id": "e6a7ab75",
   "metadata": {},
   "outputs": [],
   "source": [
    "# Dependencies and Setup\n",
    "import matplotlib.pyplot as plt\n",
    "import pandas as pd\n",
    "import scipy.stats as st\n",
    "import numpy as np"
   ]
  },
  {
   "cell_type": "code",
   "execution_count": null,
   "id": "41b96af5",
   "metadata": {},
   "outputs": [],
   "source": [
    "### Data Cleanup \n",
    "# Fast food file   \n"
   ]
  },
  {
   "cell_type": "code",
   "execution_count": null,
   "id": "26992f08",
   "metadata": {},
   "outputs": [],
   "source": [
    "### Data Cleanup \n",
    "# Census data\n"
   ]
  },
  {
   "cell_type": "code",
   "execution_count": null,
   "id": "514111a0",
   "metadata": {},
   "outputs": [],
   "source": [
    "### Data Cleanup \n",
    "# Obesity data\n"
   ]
  }
 ],
 "metadata": {
  "kernelspec": {
   "display_name": "Python 3",
   "language": "python",
   "name": "python3"
  },
  "language_info": {
   "codemirror_mode": {
    "name": "ipython",
    "version": 3
   },
   "file_extension": ".py",
   "mimetype": "text/x-python",
   "name": "python",
   "nbconvert_exporter": "python",
   "pygments_lexer": "ipython3",
   "version": "3.8.8"
  }
 },
 "nbformat": 4,
 "nbformat_minor": 5
}
