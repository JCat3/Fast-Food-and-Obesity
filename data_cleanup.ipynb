{
 "cells": [
  {
   "cell_type": "code",
   "execution_count": null,
   "id": "e6a7ab75",
   "metadata": {},
   "outputs": [],
   "source": [
    "# Dependencies and Setup\n",
    "import matplotlib.pyplot as plt\n",
    "import pandas as pd\n",
    "import scipy.stats as st\n",
    "import numpy as np"
   ]
  },
  {
   "cell_type": "code",
   "execution_count": null,
   "id": "41b96af5",
   "metadata": {},
   "outputs": [],
   "source": [
    "# read in Fast Food & Obesity csv files - Anne\n",
    "\n",
    "#connect to Census API - Julia \n",
    "\n",
    "#convert Census API zip code into state\n",
    "\n",
    "#merge tables by state \n",
    "\n",
    "#create data frame including state, fast food chain, obesity rate\n",
    "\n",
    "#data frame population and state\n",
    "\n"
   ]
  },
  {
   "cell_type": "code",
   "execution_count": null,
   "id": "26992f08",
   "metadata": {},
   "outputs": [],
   "source": [
    "### Data Cleanup \n",
    "# Census data\n",
    "\n",
    "#figure out census data - class info\n",
    "\n"
   ]
  },
  {
   "cell_type": "code",
   "execution_count": null,
   "id": "514111a0",
   "metadata": {},
   "outputs": [],
   "source": [
    "### Data Cleanup \n",
    "# Obesity data\n",
    "\n",
    "# read in csv file - Anne"
   ]
  }
 ],
 "metadata": {
  "kernelspec": {
   "display_name": "Python 3",
   "language": "python",
   "name": "python3"
  },
  "language_info": {
   "codemirror_mode": {
    "name": "ipython",
    "version": 3
   },
   "file_extension": ".py",
   "mimetype": "text/x-python",
   "name": "python",
   "nbconvert_exporter": "python",
   "pygments_lexer": "ipython3",
   "version": "3.8.8"
  }
 },
 "nbformat": 4,
 "nbformat_minor": 5
}
