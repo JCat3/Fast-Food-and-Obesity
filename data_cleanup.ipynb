{
 "cells": [
  {
   "cell_type": "code",
   "execution_count": null,
   "id": "e6a7ab75",
   "metadata": {},
   "outputs": [],
   "source": [
    "# Dependencies and Setup\n",
    "import matplotlib.pyplot as plt\n",
    "import pandas as pd\n",
    "import scipy.stats as st\n",
    "import numpy as np\n",
    "import requests\n",
    "import json\n",
    "from census import Census"
   ]
  },
  {
   "cell_type": "code",
   "execution_count": null,
   "id": "41b96af5",
   "metadata": {},
   "outputs": [],
   "source": [
    "# Import the Fast Food dataset, drop missing data\n",
    "fast_food_data = pd.read_csv('resources/fast_food_data_us.csv')\n",
    "fast_food_data = fast_food_data.dropna()\n",
    "fast_food_data.head()\n"
   ]
  },
  {
   "cell_type": "code",
   "execution_count": null,
   "id": "e223582b",
   "metadata": {},
   "outputs": [],
   "source": [
    "#find duplicate resturants by address\n",
    "duplicate_fast_food = fast_food_data[fast_food_data.duplicated(['address', 'name'])]\n",
    "duplicate_fast_food"
   ]
  },
  {
   "cell_type": "code",
   "execution_count": null,
   "id": "90b53973",
   "metadata": {},
   "outputs": [],
   "source": [
    "#remove duplicates and save as new df\n",
    "clean_fast_food = fast_food_data.drop_duplicates('address')\n",
    "clean_fast_food.head()"
   ]
  },
  {
   "cell_type": "code",
   "execution_count": null,
   "id": "9081e8f0",
   "metadata": {},
   "outputs": [],
   "source": [
    "## We need to convert the states to state codes in order to work with them - possible solution https://pypi.org/project/us/\n",
    "states = {\"AL\":\"Alabama\",\n",
    "\"AK\":\"Alaska\",\n",
    "\"AZ\":\"Arizona\",\n",
    "\"AR\":\"Arkansas\",\n",
    "\"CA\":\"California\",\n",
    "\"CO\":\"Colorado\",\n",
    "\"CT\":\"Connecticut\",\n",
    "\"DE\":\"Delaware\",\n",
    "\"FL\":\"Florida\",\n",
    "\"GA\":\"Georgia\",\n",
    "\"HI\":\"Hawaii\",\n",
    "\"ID\":\"Idaho\",\n",
    "\"IL\":\"Illinois\",\n",
    "\"IN\":\"Indiana\",\n",
    "\"IA\":\"Iowa\",\n",
    "\"KS\":\"Kansas\",\n",
    "\"KY\":\"Kentucky\",\n",
    "\"LA\":\"Louisiana\",\n",
    "\"ME\":\"Maine\",\n",
    "\"MD\":\"Maryland\",\n",
    "\"MA\":\"Massachusetts\",\n",
    "\"MI\":\"Michigan\",\n",
    "\"MN\":\"Minnesota\",\n",
    "\"MS\":\"Mississippi\",\n",
    "\"MO\":\"Missouri\",\n",
    "\"MT\":\"Montana\",\n",
    "\"NE\":\"Nebraska\",\n",
    "\"NV\":\"Nevada\",\n",
    "\"NH\":\"New Hampshire\",\n",
    "\"NJ\":\"New Jersey\",\n",
    "\"NM\":\"New Mexico\",\n",
    "\"NY\":\"New York\",\n",
    "\"NC\":\"North Carolina\",\n",
    "\"ND\":\"North Dakota\",\n",
    "\"OH\":\"Ohio\",\n",
    "\"OK\":\"Oklahoma\",\n",
    "\"OR\":\"Oregon\",\n",
    "\"PA\":\"Pennsylvania\",\n",
    "\"RI\":\"Rhode Island\",\n",
    "\"SC\":\"South Carolina\",\n",
    "\"SD\":\"South Dakota\",\n",
    "\"TN\":\"Tennessee\",\n",
    "\"TX\":\"Texas\",\n",
    "\"UT\":\"Utah\",\n",
    "\"VT\":\"Vermont\",\n",
    "\"VA\":\"Virginia\",\n",
    "\"WA\":\"Washington\",\n",
    "\"WV\":\"West Virginia\",\n",
    "\"WI\":\"Wisconsin\",\n",
    "\"WY\":\"Wyoming\"}\n",
    "\n",
    "clean_fast_food['province'].replace(states, inplace=True)\n",
    "clean_fast_food.head()"
   ]
  },
  {
   "cell_type": "code",
   "execution_count": null,
   "id": "a13caa75",
   "metadata": {},
   "outputs": [],
   "source": [
    "#renamed column from province to state for merge\n",
    "clean_fast_food.columns = ['Index',\n",
    "'Address',\n",
    "'Category',\n",
    "'City',\n",
    "'Country',\n",
    "'Latitude',\n",
    "'Longitude',\n",
    "'Name',\n",
    "'ZipCode',\n",
    "'State']\n",
    "clean_fast_food.head()"
   ]
  },
  {
   "cell_type": "code",
   "execution_count": null,
   "id": "9435695d",
   "metadata": {},
   "outputs": [],
   "source": [
    "clean_fast_food.to_csv('resources/clean_fast_food.csv', encoding='utf-8', index=False)"
   ]
  },
  {
   "cell_type": "code",
   "execution_count": null,
   "id": "514111a0",
   "metadata": {},
   "outputs": [],
   "source": [
    "# Import the Obesity dataset, drop missing data\n",
    "\n",
    "obesity_data = pd.read_csv('resources/obesity_data_state_2020.csv')\n",
    "obesity_data = obesity_data.dropna()\n",
    "obesity_data.head()"
   ]
  },
  {
   "cell_type": "code",
   "execution_count": null,
   "id": "77159219",
   "metadata": {},
   "outputs": [],
   "source": [
    "#merged clean fast food df with obesity df\n",
    "fast_food_obesity= pd.merge(clean_fast_food, obesity_data, how = 'inner', on = 'State')\n",
    "fast_food_obesity.head()"
   ]
  },
  {
   "cell_type": "code",
   "execution_count": null,
   "id": "7b920dcd",
   "metadata": {},
   "outputs": [],
   "source": [
    "fast_food_obesity.to_csv('resources/clean_fast_obesity.csv', encoding='utf-8', index=False)"
   ]
  },
  {
   "cell_type": "code",
   "execution_count": null,
   "id": "26992f08",
   "metadata": {},
   "outputs": [],
   "source": [
    "### Data Cleanup \n",
    "# Census data\n",
    "# Census API Key\n",
    "\n",
    "url = 'http://api.census.gov/data/2020/dec/pl?get=NAME,H1_001N&for=state:*'\n",
    "\n",
    "from config import api_key\n",
    "c = Census(api_key, year=2021)\n",
    "\n",
    "census_data = requests.get(url).json()\n",
    "\n",
    "# Convert to DataFrame\n",
    "census_pd = pd.DataFrame(census_data)\n",
    "census_pd.columns = [\"State\", \"Total Population\", \"State Number\"]\n",
    "census_pd"
   ]
  },
  {
   "cell_type": "code",
   "execution_count": null,
   "id": "f88a94bf",
   "metadata": {},
   "outputs": [],
   "source": [
    "census_pd = census_pd.drop(census_pd.index[0])\n",
    "census_pd"
   ]
  },
  {
   "cell_type": "code",
   "execution_count": null,
   "id": "bf75c03b",
   "metadata": {},
   "outputs": [],
   "source": [
    "#merge tables by state and create data frame including state, fast food chain, obesity rate\n",
    "fast_obesity_census= pd.merge(fast_food_obesity, census_pd, how = 'inner', on = 'State')\n",
    "fast_obesity_census.head()"
   ]
  },
  {
   "cell_type": "code",
   "execution_count": null,
   "id": "c4262c8a",
   "metadata": {},
   "outputs": [],
   "source": [
    "#dropped index and state number\n",
    "clean_fast_obesity_census = fast_obesity_census.drop(['Index', 'State Number'], axis = 1)\n",
    "clean_fast_obesity_census"
   ]
  },
  {
   "cell_type": "code",
   "execution_count": null,
   "id": "ffbe7ee5",
   "metadata": {},
   "outputs": [],
   "source": [
    "clean_fast_obesity_census.to_csv('resources/clean_all_combined.csv', encoding='utf-8', index=False)"
   ]
  },
  {
   "cell_type": "code",
   "execution_count": null,
   "id": "0ef044cb",
   "metadata": {},
   "outputs": [],
   "source": []
  }
 ],
 "metadata": {
  "kernelspec": {
   "display_name": "Python 3",
   "language": "python",
   "name": "python3"
  },
  "language_info": {
   "codemirror_mode": {
    "name": "ipython",
    "version": 3
   },
   "file_extension": ".py",
   "mimetype": "text/x-python",
   "name": "python",
   "nbconvert_exporter": "python",
   "pygments_lexer": "ipython3",
   "version": "3.8.8"
  }
 },
 "nbformat": 4,
 "nbformat_minor": 5
}
