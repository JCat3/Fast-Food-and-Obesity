{
 "cells": [
  {
   "cell_type": "code",
   "execution_count": null,
   "id": "e6a7ab75",
   "metadata": {},
   "outputs": [],
   "source": [
    "# Dependencies and Setup\n",
    "import matplotlib.pyplot as plt\n",
    "import pandas as pd\n",
    "import scipy.stats as st\n",
    "import numpy as np\n"
   ]
  },
  {
   "cell_type": "code",
   "execution_count": null,
   "id": "41b96af5",
   "metadata": {},
   "outputs": [],
   "source": [
    "# Import the Fast Food dataset, drop missing data\n",
    "fast_food_data = pd.read_csv('resources/fast_food_data_us.csv')\n",
    "fast_food_data = fast_food_data.dropna()\n",
    "fast_food_data.head()\n"
   ]
  },
  {
   "cell_type": "code",
   "execution_count": null,
   "id": "514111a0",
   "metadata": {},
   "outputs": [],
   "source": [
    "# Import the Obesity dataset, drop missing data\n",
    "\n",
    "obesity_data = pd.read_csv('resources/obesity_data_state_2020.csv')\n",
    "obesity_data = obesity_data.dropna()\n",
    "obesity_data.head()\n",
    "\n",
    "\n",
    "## We need to convert the states to state codes in order to work with them - possible solution https://pypi.org/project/us/"
   ]
  },
  {
   "cell_type": "code",
   "execution_count": null,
   "id": "26992f08",
   "metadata": {},
   "outputs": [],
   "source": [
    "### Data Cleanup \n",
    "#connect to Census API - Julia \n",
    "#convert Census API zip code into state\n",
    "\n",
    "#figure out census data - class info\n",
    "\n"
   ]
  },
  {
   "cell_type": "code",
   "execution_count": null,
   "id": "c4262c8a",
   "metadata": {},
   "outputs": [],
   "source": [
    "#merge tables by state \n",
    "\n",
    "#create data frame including state, fast food chain, obesity rate\n",
    "\n",
    "#data frame population and state\n"
   ]
  }
 ],
 "metadata": {
  "kernelspec": {
   "display_name": "Python 3",
   "language": "python",
   "name": "python3"
  },
  "language_info": {
   "codemirror_mode": {
    "name": "ipython",
    "version": 3
   },
   "file_extension": ".py",
   "mimetype": "text/x-python",
   "name": "python",
   "nbconvert_exporter": "python",
   "pygments_lexer": "ipython3",
   "version": "3.8.8"
  }
 },
 "nbformat": 4,
 "nbformat_minor": 5
}
