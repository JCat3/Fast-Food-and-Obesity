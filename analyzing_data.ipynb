{
 "cells": [
  {
   "cell_type": "code",
   "execution_count": null,
   "metadata": {},
   "outputs": [],
   "source": [
    "import matplotlib.pyplot as plt\n",
    "import pandas as pd\n",
    "import scipy.stats as st\n",
    "import numpy as np\n",
    "import requests\n",
    "import json\n",
    "from census import Census\n",
    "from scipy.stats import linregress"
   ]
  },
  {
   "cell_type": "code",
   "execution_count": null,
   "metadata": {},
   "outputs": [],
   "source": [
    "fast_food = \"resources/clean_fast_food.csv\"\n",
    "clean_fast_food = pd.read_csv(fast_food, encoding=\"utf-8\")\n",
    "clean_fast_food"
   ]
  },
  {
   "cell_type": "code",
   "execution_count": null,
   "metadata": {},
   "outputs": [],
   "source": [
    "### Data Cleanup \n",
    "# Census data\n",
    "# Census API Key\n",
    "\n",
    "url = 'http://api.census.gov/data/2020/dec/pl?get=NAME,H1_001N&for=state:*'\n",
    "\n",
    "from config import api_key\n",
    "c = Census(api_key, year=2021)\n",
    "\n",
    "census_data = requests.get(url).json()\n",
    "\n",
    "# Convert to DataFrame\n",
    "census_pd = pd.DataFrame(census_data)\n",
    "census_pd.columns = [\"State\", \"Total Population\", \"State Number\"]\n",
    "census_pd"
   ]
  },
  {
   "cell_type": "code",
   "execution_count": null,
   "metadata": {},
   "outputs": [],
   "source": [
    "census_pd = census_pd.drop(census_pd.index[0])\n",
    "census_pd"
   ]
  },
  {
   "cell_type": "code",
   "execution_count": null,
   "metadata": {},
   "outputs": [],
   "source": [
    "resturant_count=clean_fast_food.groupby([\"State\", \"Name\"]).count()[\"Index\"]\n",
    "resturant_count"
   ]
  },
  {
   "cell_type": "code",
   "execution_count": null,
   "metadata": {},
   "outputs": [],
   "source": [
    "state_count = clean_fast_food.groupby(\"State\").count()[\"Index\"]\n",
    "state_count"
   ]
  },
  {
   "cell_type": "code",
   "execution_count": null,
   "metadata": {},
   "outputs": [],
   "source": [
    "plot_pandas =  state_count.plot.bar (figsize = (15,10), color = 'b', fontsize = 14)\n",
    "state_count\n",
    "plt.xlabel('State', fontsize = 14)\n",
    "plt.ylabel('Number of Fast Food Resturants', fontsize = 14)\n",
    "plt.title('Number of Fast Food Resturants per State', fontsize =20)\n",
    "plt.show"
   ]
  },
  {
   "cell_type": "code",
   "execution_count": null,
   "metadata": {},
   "outputs": [],
   "source": [
    "fast_food_census= pd.merge(state_count, census_pd, how = 'inner', on = 'State')\n",
    "fast_food_census.head()"
   ]
  },
  {
   "cell_type": "code",
   "execution_count": null,
   "metadata": {},
   "outputs": [],
   "source": [
    "fast_food_census.columns = ['State',\n",
    "'Number of Resturants',\n",
    "'Total Population',\n",
    "'Number of Resturants/Tot Population']\n",
    "                            \n",
    "fast_food_census.head()"
   ]
  },
  {
   "cell_type": "code",
   "execution_count": null,
   "metadata": {},
   "outputs": [],
   "source": [
    "fast_food_census.dtypes\n",
    "fast_food_census[\"Total Population\"] =pd.to_numeric(fast_food_census[\"Total Population\"])\n",
    "fast_food_census[\"Total Population\"].dtype"
   ]
  },
  {
   "cell_type": "code",
   "execution_count": null,
   "metadata": {},
   "outputs": [],
   "source": [
    "fast_food_census [\"Number of Resturants/Tot Population\"] = fast_food_census [\"Number of Resturants\"]/ fast_food_census [\"Total Population\"]\n",
    "fast_food_census"
   ]
  },
  {
   "cell_type": "code",
   "execution_count": null,
   "metadata": {
    "scrolled": false
   },
   "outputs": [],
   "source": [
    "plot_ff_capita =  fast_food_census.plot.scatter ('State','Number of Resturants/Tot Population',figsize = (15,10), color = 'b', fontsize = 14)\n",
    "plt.xlabel('State', fontsize = 14)\n",
    "plt.xticks(rotation=90)\n",
    "plt.ylabel('Number of Resturants/Tot Population', fontsize = 14)\n",
    "plt.title('Fast Food Resturants per Capita', fontsize =20)\n",
    "plt.show()"
   ]
  },
  {
   "cell_type": "code",
   "execution_count": null,
   "metadata": {},
   "outputs": [],
   "source": []
  }
 ],
 "metadata": {
  "kernelspec": {
   "display_name": "Python 3",
   "language": "python",
   "name": "python3"
  },
  "language_info": {
   "codemirror_mode": {
    "name": "ipython",
    "version": 3
   },
   "file_extension": ".py",
   "mimetype": "text/x-python",
   "name": "python",
   "nbconvert_exporter": "python",
   "pygments_lexer": "ipython3",
   "version": "3.8.8"
  }
 },
 "nbformat": 4,
 "nbformat_minor": 2
}
